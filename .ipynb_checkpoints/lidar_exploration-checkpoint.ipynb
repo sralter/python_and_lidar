{
 "cells": [
  {
   "cell_type": "markdown",
   "id": "b8d87ede-855d-4b05-9545-9807c09a4f75",
   "metadata": {},
   "source": [
    "# From this [Medium](#https://medium.com/spatial-data-science/an-easy-way-to-work-and-visualize-lidar-data-in-python-eed0e028996c) article "
   ]
  },
  {
   "cell_type": "code",
   "execution_count": 27,
   "id": "e840a0a0-5182-45af-a498-cd4bd530a267",
   "metadata": {},
   "outputs": [],
   "source": [
    "import laspy\n",
    "import open3d as o3d\n",
    "import numpy as np\n",
    "import pandas as pd"
   ]
  },
  {
   "cell_type": "code",
   "execution_count": 5,
   "id": "583dd6f3-c76c-4a13-8c23-0307d83ab123",
   "metadata": {},
   "outputs": [
    {
     "data": {
      "text/plain": [
       "<LasData(1.4, point fmt: <PointFormat(6, 0 bytes of extra dims)>, 8947943 points, 1 vlrs)>"
      ]
     },
     "execution_count": 5,
     "metadata": {},
     "output_type": "execute_result"
    }
   ],
   "source": [
    "las = laspy.read('../data/982172.las')\n",
    "las"
   ]
  },
  {
   "cell_type": "code",
   "execution_count": 6,
   "id": "de40ee1b-c0da-4527-a2c5-b775fa1323cb",
   "metadata": {},
   "outputs": [
    {
     "data": {
      "text/plain": [
       "<LasHeader(1.4, <PointFormat(6, 0 bytes of extra dims)>)>"
      ]
     },
     "execution_count": 6,
     "metadata": {},
     "output_type": "execute_result"
    }
   ],
   "source": [
    "las.header"
   ]
  },
  {
   "cell_type": "code",
   "execution_count": 7,
   "id": "d84f6fc8-1b2d-4ba4-b730-34fcfc955372",
   "metadata": {},
   "outputs": [
    {
     "data": {
      "text/plain": [
       "<PointFormat(6, 0 bytes of extra dims)>"
      ]
     },
     "execution_count": 7,
     "metadata": {},
     "output_type": "execute_result"
    }
   ],
   "source": [
    "las.header.point_format"
   ]
  },
  {
   "cell_type": "code",
   "execution_count": 8,
   "id": "218b292a-3125-405a-a27d-4d840724aa44",
   "metadata": {},
   "outputs": [
    {
     "data": {
      "text/plain": [
       "8947943"
      ]
     },
     "execution_count": 8,
     "metadata": {},
     "output_type": "execute_result"
    }
   ],
   "source": [
    "las.header.point_count"
   ]
  },
  {
   "cell_type": "code",
   "execution_count": 9,
   "id": "50b4da24-66fd-477e-b219-c530467749c3",
   "metadata": {},
   "outputs": [
    {
     "data": {
      "text/plain": [
       "[<laspy.vlrs.known.WktCoordinateSystemVlr object at 0x29433e9e0>]"
      ]
     },
     "execution_count": 9,
     "metadata": {},
     "output_type": "execute_result"
    }
   ],
   "source": [
    "las.vlrs"
   ]
  },
  {
   "cell_type": "code",
   "execution_count": 11,
   "id": "c1c6934d-4de7-4c03-a56b-0c8ce50731b5",
   "metadata": {},
   "outputs": [
    {
     "data": {
      "text/plain": [
       "['X',\n",
       " 'Y',\n",
       " 'Z',\n",
       " 'intensity',\n",
       " 'return_number',\n",
       " 'number_of_returns',\n",
       " 'synthetic',\n",
       " 'key_point',\n",
       " 'withheld',\n",
       " 'overlap',\n",
       " 'scanner_channel',\n",
       " 'scan_direction_flag',\n",
       " 'edge_of_flight_line',\n",
       " 'classification',\n",
       " 'user_data',\n",
       " 'scan_angle',\n",
       " 'point_source_id',\n",
       " 'gps_time']"
      ]
     },
     "execution_count": 11,
     "metadata": {},
     "output_type": "execute_result"
    }
   ],
   "source": [
    "features=list(las.point_format.dimension_names)\n",
    "features"
   ]
  },
  {
   "cell_type": "code",
   "execution_count": 12,
   "id": "2278864f-655d-4934-8ed8-ebe5eae8fe7b",
   "metadata": {},
   "outputs": [],
   "source": [
    "comparison_features=['X',\n",
    " 'Y',\n",
    " 'Z',\n",
    " 'intensity',\n",
    " 'return_number',\n",
    " 'number_of_returns',\n",
    " 'scan_direction_flag',\n",
    " 'edge_of_flight_line',\n",
    " 'classification',\n",
    " 'synthetic',\n",
    " 'key_point',\n",
    " 'withheld',\n",
    " 'scan_angle_rank',\n",
    " 'user_data',\n",
    " 'point_source_id',\n",
    " 'gps_time']"
   ]
  },
  {
   "cell_type": "code",
   "execution_count": 15,
   "id": "4aa87498-42ef-4a57-90e9-e8af00bbe12a",
   "metadata": {},
   "outputs": [
    {
     "name": "stdout",
     "output_type": "stream",
     "text": [
      "{'scan_angle', 'overlap', 'scanner_channel'}\n"
     ]
    }
   ],
   "source": [
    "items_not_in_comparison_features = set(features) - set(comparison_features)\n",
    "\n",
    "print(items_not_in_comparison_features)"
   ]
  },
  {
   "cell_type": "code",
   "execution_count": 16,
   "id": "9f5e2e31-df01-423d-813d-93c3b11521e0",
   "metadata": {},
   "outputs": [
    {
     "name": "stdout",
     "output_type": "stream",
     "text": [
      "{'scan_angle_rank'}\n"
     ]
    }
   ],
   "source": [
    "items_not_in_features = set(comparison_features) - set(features)\n",
    "\n",
    "print(items_not_in_features)"
   ]
  },
  {
   "cell_type": "code",
   "execution_count": 17,
   "id": "06ff9ce1-f165-45b8-b0b5-b58a391f5161",
   "metadata": {},
   "outputs": [
    {
     "data": {
      "text/plain": [
       "array([98499999, 98499986, 98499973, ..., 98344820, 98344810, 98344796],\n",
       "      dtype=int32)"
      ]
     },
     "execution_count": 17,
     "metadata": {},
     "output_type": "execute_result"
    }
   ],
   "source": [
    "las.X"
   ]
  },
  {
   "cell_type": "code",
   "execution_count": 18,
   "id": "acb810ab-5625-4fa6-9be4-cff983329ab5",
   "metadata": {},
   "outputs": [
    {
     "data": {
      "text/plain": [
       "array([17936, 18488, 19316, ..., 20695, 17384, 15452], dtype=uint16)"
      ]
     },
     "execution_count": 18,
     "metadata": {},
     "output_type": "execute_result"
    }
   ],
   "source": [
    "las.intensity"
   ]
  },
  {
   "cell_type": "code",
   "execution_count": 19,
   "id": "68ec02fd-41a8-4215-9f53-8978f82f9354",
   "metadata": {},
   "outputs": [
    {
     "data": {
      "text/plain": [
       "array([1.78950335e+08, 1.78950335e+08, 1.78950335e+08, ...,\n",
       "       1.78952427e+08, 1.78952427e+08, 1.78952427e+08])"
      ]
     },
     "execution_count": 19,
     "metadata": {},
     "output_type": "execute_result"
    }
   ],
   "source": [
    "las.gps_time"
   ]
  },
  {
   "cell_type": "code",
   "execution_count": 20,
   "id": "e24a7baa-ea9a-4639-a47e-50c3e018a9d3",
   "metadata": {},
   "outputs": [
    {
     "data": {
      "text/plain": [
       "array([1, 1, 1, ..., 1, 1, 1], dtype=uint8)"
      ]
     },
     "execution_count": 20,
     "metadata": {},
     "output_type": "execute_result"
    }
   ],
   "source": [
    "las.classification"
   ]
  },
  {
   "cell_type": "code",
   "execution_count": 29,
   "id": "ec1f5681-3a47-42c4-9c60-d77d99a45af7",
   "metadata": {},
   "outputs": [
    {
     "data": {
      "text/plain": [
       "1    7463788\n",
       "2    1469393\n",
       "7      14762\n",
       "Name: count, dtype: int64"
      ]
     },
     "execution_count": 29,
     "metadata": {},
     "output_type": "execute_result"
    }
   ],
   "source": [
    "series_classes=pd.Series(las.classification)\n",
    "series_classes.value_counts()"
   ]
  },
  {
   "cell_type": "markdown",
   "id": "f84ef9f8-7906-4886-bfdc-db45376bac1c",
   "metadata": {},
   "source": [
    "According to the ArcGIS [documentation](#https://desktop.arcgis.com/en/arcmap/latest/manage-data/las-dataset/lidar-point-classification.htm), here are the relevant classifications in the dataset:"
   ]
  },
  {
   "cell_type": "code",
   "execution_count": 30,
   "id": "7b1078d7-f95b-4647-8124-b92efc0b7678",
   "metadata": {},
   "outputs": [
    {
     "name": "stdout",
     "output_type": "stream",
     "text": [
      "Classifications:\n",
      "1: Unassigned\n",
      "2: Ground\n",
      "7: Noise\n"
     ]
    }
   ],
   "source": [
    "print('Classifications:\\n1: Unassigned\\n2: Ground\\n7: Noise')"
   ]
  },
  {
   "cell_type": "code",
   "execution_count": 31,
   "id": "fe0e3f4b-60c3-4a7f-a51b-af0109f7a1f8",
   "metadata": {},
   "outputs": [
    {
     "data": {
      "text/plain": [
       "array([[98499999, 17457575,    11434],\n",
       "       [98499986, 17457552,    11417],\n",
       "       [98499973, 17457532,    11414],\n",
       "       ...,\n",
       "       [98344820, 17250061,    11270],\n",
       "       [98344810, 17250035,    11280],\n",
       "       [98344796, 17250002,    11299]], dtype=int32)"
      ]
     },
     "execution_count": 31,
     "metadata": {},
     "output_type": "execute_result"
    }
   ],
   "source": [
    "point_data = np.stack([las.X, las.Y, las.Z], axis=0).transpose((1, 0))\n",
    "point_data"
   ]
  },
  {
   "cell_type": "code",
   "execution_count": 32,
   "id": "bc1052e0-7838-469b-a36c-f1c782919829",
   "metadata": {},
   "outputs": [
    {
     "name": "stdout",
     "output_type": "stream",
     "text": [
      "\u001b[1;33m[Open3D WARNING] GLFW Error: Cocoa: Failed to find service port for display\u001b[0;m\n"
     ]
    }
   ],
   "source": [
    "geom = o3d.geometry.PointCloud()\n",
    "geom.points = o3d.utility.Vector3dVector(point_data)\n",
    "o3d.visualization.draw_geometries([geom])"
   ]
  },
  {
   "cell_type": "markdown",
   "id": "88e169fd-fd6f-40f1-b85e-618860a358ee",
   "metadata": {},
   "source": [
    "Notice that the trees and buildings are not differentiated. Perhaps they're all included in class 1. More to explore!"
   ]
  },
  {
   "cell_type": "code",
   "execution_count": null,
   "id": "a0b1eed8-e7e1-4f2e-8e04-548e5e492dd7",
   "metadata": {},
   "outputs": [],
   "source": []
  }
 ],
 "metadata": {
  "kernelspec": {
   "display_name": "gis",
   "language": "python",
   "name": "gis"
  },
  "language_info": {
   "codemirror_mode": {
    "name": "ipython",
    "version": 3
   },
   "file_extension": ".py",
   "mimetype": "text/x-python",
   "name": "python",
   "nbconvert_exporter": "python",
   "pygments_lexer": "ipython3",
   "version": "3.10.8"
  }
 },
 "nbformat": 4,
 "nbformat_minor": 5
}
