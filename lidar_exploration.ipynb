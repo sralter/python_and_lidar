{
 "cells": [
  {
   "cell_type": "markdown",
   "id": "b8d87ede-855d-4b05-9545-9807c09a4f75",
   "metadata": {},
   "source": [
    "# From this webpage: https://medium.com/spatial-data-science/an-easy-way-to-work-and-visualize-lidar-data-in-python-eed0e028996c"
   ]
  },
  {
   "cell_type": "code",
   "execution_count": 1,
   "id": "e840a0a0-5182-45af-a498-cd4bd530a267",
   "metadata": {},
   "outputs": [],
   "source": [
    "import laspy\n",
    "import open3d as o3d\n",
    "import numpy as np"
   ]
  },
  {
   "cell_type": "code",
   "execution_count": 2,
   "id": "583dd6f3-c76c-4a13-8c23-0307d83ab123",
   "metadata": {},
   "outputs": [
    {
     "data": {
      "text/plain": [
       "<LasData(1.4, point fmt: <PointFormat(6, 0 bytes of extra dims)>, 8947943 points, 1 vlrs)>"
      ]
     },
     "execution_count": 2,
     "metadata": {},
     "output_type": "execute_result"
    }
   ],
   "source": [
    "las = laspy.read('/Users/sra/982172.las')\n",
    "las"
   ]
  },
  {
   "cell_type": "code",
   "execution_count": 4,
   "id": "de40ee1b-c0da-4527-a2c5-b775fa1323cb",
   "metadata": {},
   "outputs": [
    {
     "data": {
      "text/plain": [
       "<LasHeader(1.4, <PointFormat(6, 0 bytes of extra dims)>)>"
      ]
     },
     "execution_count": 4,
     "metadata": {},
     "output_type": "execute_result"
    }
   ],
   "source": [
    "las.header"
   ]
  },
  {
   "cell_type": "code",
   "execution_count": 5,
   "id": "d84f6fc8-1b2d-4ba4-b730-34fcfc955372",
   "metadata": {},
   "outputs": [
    {
     "data": {
      "text/plain": [
       "<PointFormat(6, 0 bytes of extra dims)>"
      ]
     },
     "execution_count": 5,
     "metadata": {},
     "output_type": "execute_result"
    }
   ],
   "source": [
    "las.header.point_format"
   ]
  },
  {
   "cell_type": "code",
   "execution_count": 6,
   "id": "218b292a-3125-405a-a27d-4d840724aa44",
   "metadata": {},
   "outputs": [
    {
     "data": {
      "text/plain": [
       "8947943"
      ]
     },
     "execution_count": 6,
     "metadata": {},
     "output_type": "execute_result"
    }
   ],
   "source": [
    "las.header.point_count"
   ]
  },
  {
   "cell_type": "code",
   "execution_count": 7,
   "id": "50b4da24-66fd-477e-b219-c530467749c3",
   "metadata": {},
   "outputs": [
    {
     "data": {
      "text/plain": [
       "[<laspy.vlrs.known.WktCoordinateSystemVlr object at 0x2917ed660>]"
      ]
     },
     "execution_count": 7,
     "metadata": {},
     "output_type": "execute_result"
    }
   ],
   "source": [
    "las.vlrs"
   ]
  },
  {
   "cell_type": "code",
   "execution_count": null,
   "id": "c1c6934d-4de7-4c03-a56b-0c8ce50731b5",
   "metadata": {},
   "outputs": [],
   "source": []
  }
 ],
 "metadata": {
  "kernelspec": {
   "display_name": "gis",
   "language": "python",
   "name": "gis"
  },
  "language_info": {
   "codemirror_mode": {
    "name": "ipython",
    "version": 3
   },
   "file_extension": ".py",
   "mimetype": "text/x-python",
   "name": "python",
   "nbconvert_exporter": "python",
   "pygments_lexer": "ipython3",
   "version": "3.10.8"
  }
 },
 "nbformat": 4,
 "nbformat_minor": 5
}
